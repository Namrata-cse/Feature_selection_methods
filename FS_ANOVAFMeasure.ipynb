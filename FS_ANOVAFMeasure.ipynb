{
  "nbformat": 4,
  "nbformat_minor": 0,
  "metadata": {
    "colab": {
      "name": "FS_ANOVAFMeasure.ipynb",
      "provenance": [],
      "authorship_tag": "ABX9TyNP6tCJ9r3a77mbVliQaQ7T",
      "include_colab_link": true
    },
    "kernelspec": {
      "name": "python3",
      "display_name": "Python 3"
    },
    "language_info": {
      "name": "python"
    }
  },
  "cells": [
    {
      "cell_type": "markdown",
      "metadata": {
        "id": "view-in-github",
        "colab_type": "text"
      },
      "source": [
        "<a href=\"https://colab.research.google.com/github/Namrata-cse/Feature_selection_methods/blob/main/FS_ANOVAFMeasure.ipynb\" target=\"_parent\"><img src=\"https://colab.research.google.com/assets/colab-badge.svg\" alt=\"Open In Colab\"/></a>"
      ]
    },
    {
      "cell_type": "markdown",
      "source": [
        "Classification Feature Selection:\n",
        "(Numerical Input, Categorical Output)"
      ],
      "metadata": {
        "id": "umuu8L1iTmng"
      }
    },
    {
      "cell_type": "code",
      "execution_count": 1,
      "metadata": {
        "id": "32qQgvuSTesi"
      },
      "outputs": [],
      "source": [
        "#libraries\n",
        "from sklearn.datasets import make_classification\n",
        "from sklearn.feature_selection import SelectKBest\n",
        "from sklearn.feature_selection import f_classif"
      ]
    },
    {
      "cell_type": "code",
      "source": [
        "# generate dataset\n",
        "X, y = make_classification(n_samples=100, n_features=20, n_informative=2)"
      ],
      "metadata": {
        "id": "o-3Wr4xxT2bi"
      },
      "execution_count": 3,
      "outputs": []
    },
    {
      "cell_type": "code",
      "source": [
        "# define feature selection\n",
        "fs = SelectKBest(score_func=f_classif, k=2)"
      ],
      "metadata": {
        "id": "1TAfl7PvUCzs"
      },
      "execution_count": 5,
      "outputs": []
    },
    {
      "cell_type": "code",
      "source": [
        "# apply feature selection\n",
        "X_selected = fs.fit_transform(X, y)\n",
        "print(X_selected.shape)"
      ],
      "metadata": {
        "colab": {
          "base_uri": "https://localhost:8080/"
        },
        "id": "IVVJ2EXLUHWE",
        "outputId": "70ea5183-5dbc-40d1-d3f6-b7e82d5c95d1"
      },
      "execution_count": 6,
      "outputs": [
        {
          "output_type": "stream",
          "name": "stdout",
          "text": [
            "(100, 2)\n"
          ]
        }
      ]
    },
    {
      "cell_type": "markdown",
      "source": [
        "first creates the classification dataset, then defines the feature selection and applies the feature selection procedure to the dataset, returning a subset of the selected input features."
      ],
      "metadata": {
        "id": "XRF2Ir3iUNd6"
      }
    },
    {
      "cell_type": "code",
      "source": [
        ""
      ],
      "metadata": {
        "id": "yEHwuozxUzGQ"
      },
      "execution_count": null,
      "outputs": []
    }
  ]
}