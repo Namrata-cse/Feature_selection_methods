{
  "nbformat": 4,
  "nbformat_minor": 0,
  "metadata": {
    "colab": {
      "name": "FS_Fischerscore(supervised).ipynb",
      "provenance": [],
      "authorship_tag": "ABX9TyMIJDE+gd4M7A7ryc4md32Q",
      "include_colab_link": true
    },
    "kernelspec": {
      "name": "python3",
      "display_name": "Python 3"
    },
    "language_info": {
      "name": "python"
    }
  },
  "cells": [
    {
      "cell_type": "markdown",
      "metadata": {
        "id": "view-in-github",
        "colab_type": "text"
      },
      "source": [
        "<a href=\"https://colab.research.google.com/github/Namrata-cse/Feature_selection_methods/blob/main/FS_Fischerscore(supervised).ipynb\" target=\"_parent\"><img src=\"https://colab.research.google.com/assets/colab-badge.svg\" alt=\"Open In Colab\"/></a>"
      ]
    },
    {
      "cell_type": "code",
      "source": [
        "!pip install skfeature-chappers"
      ],
      "metadata": {
        "colab": {
          "base_uri": "https://localhost:8080/"
        },
        "id": "IWMQfGxv--t2",
        "outputId": "f49f1efa-7b03-4bf8-bce4-6c6c27cbb9ae"
      },
      "execution_count": 21,
      "outputs": [
        {
          "output_type": "stream",
          "name": "stdout",
          "text": [
            "Collecting skfeature-chappers\n",
            "  Downloading skfeature_chappers-1.1.0-py3-none-any.whl (66 kB)\n",
            "\u001b[?25l\r\u001b[K     |█████                           | 10 kB 18.5 MB/s eta 0:00:01\r\u001b[K     |█████████▉                      | 20 kB 24.1 MB/s eta 0:00:01\r\u001b[K     |██████████████▉                 | 30 kB 29.9 MB/s eta 0:00:01\r\u001b[K     |███████████████████▊            | 40 kB 21.1 MB/s eta 0:00:01\r\u001b[K     |████████████████████████▊       | 51 kB 18.3 MB/s eta 0:00:01\r\u001b[K     |█████████████████████████████▋  | 61 kB 20.5 MB/s eta 0:00:01\r\u001b[K     |████████████████████████████████| 66 kB 4.1 MB/s \n",
            "\u001b[?25hRequirement already satisfied: scikit-learn in /usr/local/lib/python3.7/dist-packages (from skfeature-chappers) (1.0.2)\n",
            "Requirement already satisfied: pandas in /usr/local/lib/python3.7/dist-packages (from skfeature-chappers) (1.3.5)\n",
            "Requirement already satisfied: numpy in /usr/local/lib/python3.7/dist-packages (from skfeature-chappers) (1.21.5)\n",
            "Requirement already satisfied: pytz>=2017.3 in /usr/local/lib/python3.7/dist-packages (from pandas->skfeature-chappers) (2018.9)\n",
            "Requirement already satisfied: python-dateutil>=2.7.3 in /usr/local/lib/python3.7/dist-packages (from pandas->skfeature-chappers) (2.8.2)\n",
            "Requirement already satisfied: six>=1.5 in /usr/local/lib/python3.7/dist-packages (from python-dateutil>=2.7.3->pandas->skfeature-chappers) (1.15.0)\n",
            "Requirement already satisfied: scipy>=1.1.0 in /usr/local/lib/python3.7/dist-packages (from scikit-learn->skfeature-chappers) (1.4.1)\n",
            "Requirement already satisfied: threadpoolctl>=2.0.0 in /usr/local/lib/python3.7/dist-packages (from scikit-learn->skfeature-chappers) (3.1.0)\n",
            "Requirement already satisfied: joblib>=0.11 in /usr/local/lib/python3.7/dist-packages (from scikit-learn->skfeature-chappers) (1.1.0)\n",
            "Installing collected packages: skfeature-chappers\n",
            "Successfully installed skfeature-chappers-1.1.0\n"
          ]
        }
      ]
    },
    {
      "cell_type": "code",
      "execution_count": 38,
      "metadata": {
        "id": "eFHsyd8J6a7R"
      },
      "outputs": [],
      "source": [
        "#libraries\n",
        "import numpy as np\n",
        "import scipy.io\n",
        "from sklearn.model_selection import train_test_split\n",
        "from skfeature.function.similarity_based import fisher_score\n",
        "from sklearn import svm\n",
        "from sklearn.metrics import accuracy_score\n"
      ]
    },
    {
      "cell_type": "code",
      "source": [
        "mat = scipy.io.loadmat(\"COIL20.mat\")"
      ],
      "metadata": {
        "id": "kXqJAOdH6nzW"
      },
      "execution_count": 3,
      "outputs": []
    },
    {
      "cell_type": "code",
      "source": [
        "X=mat['X']\n",
        "print(X)"
      ],
      "metadata": {
        "colab": {
          "base_uri": "https://localhost:8080/"
        },
        "id": "4YSWNq8k7JLH",
        "outputId": "32ca57ab-41c6-4596-f990-8b7adec1ccea"
      },
      "execution_count": 4,
      "outputs": [
        {
          "output_type": "stream",
          "name": "stdout",
          "text": [
            "[[0.01568627 0.01568627 0.01568627 ... 0.01568627 0.01568627 0.01568627]\n",
            " [0.01960784 0.01960784 0.01960784 ... 0.01960784 0.01960784 0.01960784]\n",
            " [0.01568627 0.01568627 0.01568627 ... 0.01568627 0.01568627 0.01568627]\n",
            " ...\n",
            " [0.         0.         0.         ... 0.         0.         0.        ]\n",
            " [0.         0.         0.         ... 0.         0.         0.        ]\n",
            " [0.         0.         0.         ... 0.         0.         0.        ]]\n"
          ]
        }
      ]
    },
    {
      "cell_type": "code",
      "source": [
        "y = mat['Y'][:, 0] "
      ],
      "metadata": {
        "id": "_W8uPrBR7QD5"
      },
      "execution_count": 5,
      "outputs": []
    },
    {
      "cell_type": "code",
      "source": [
        "print(y)"
      ],
      "metadata": {
        "colab": {
          "base_uri": "https://localhost:8080/"
        },
        "id": "UaFwM8cc7iZK",
        "outputId": "cab7941f-01e6-4d3b-da90-d7dd650b4830"
      },
      "execution_count": 7,
      "outputs": [
        {
          "output_type": "stream",
          "name": "stdout",
          "text": [
            "[ 1  1  1 ... 20 20 20]\n"
          ]
        }
      ]
    },
    {
      "cell_type": "code",
      "source": [
        "n_samples, n_features = np.shape(X)"
      ],
      "metadata": {
        "id": "NjwuQnU-7kHd"
      },
      "execution_count": 8,
      "outputs": []
    },
    {
      "cell_type": "code",
      "source": [
        "print (n_samples, n_features)"
      ],
      "metadata": {
        "colab": {
          "base_uri": "https://localhost:8080/"
        },
        "id": "EWDo7mxP7u8a",
        "outputId": "387a5511-a3bf-49a9-bd57-24242569fa93"
      },
      "execution_count": 9,
      "outputs": [
        {
          "output_type": "stream",
          "name": "stdout",
          "text": [
            "1440 1024\n"
          ]
        }
      ]
    },
    {
      "cell_type": "code",
      "source": [
        "n_labels = np.shape(y)"
      ],
      "metadata": {
        "id": "Zip8PMHE8re2"
      },
      "execution_count": 10,
      "outputs": []
    },
    {
      "cell_type": "code",
      "source": [
        "print(n_labels)"
      ],
      "metadata": {
        "colab": {
          "base_uri": "https://localhost:8080/"
        },
        "id": "DcmYsbdN8uep",
        "outputId": "871d0138-e28a-4f41-b741-6c9adc96af90"
      },
      "execution_count": 11,
      "outputs": [
        {
          "output_type": "stream",
          "name": "stdout",
          "text": [
            "(1440,)\n"
          ]
        }
      ]
    },
    {
      "cell_type": "code",
      "source": [
        "X_train, X_test, y_train, y_test = train_test_split(X, y, test_size=0.2, random_state=40)"
      ],
      "metadata": {
        "id": "U2vQYm6o8wPE"
      },
      "execution_count": 14,
      "outputs": []
    },
    {
      "cell_type": "code",
      "source": [
        "print( X_train)"
      ],
      "metadata": {
        "colab": {
          "base_uri": "https://localhost:8080/"
        },
        "id": "S1mxx5by9IY9",
        "outputId": "a92affcd-0e64-46e5-9a94-69f18f948063"
      },
      "execution_count": 16,
      "outputs": [
        {
          "output_type": "stream",
          "name": "stdout",
          "text": [
            "[[0.         0.         0.         ... 0.         0.         0.        ]\n",
            " [0.02352941 0.02352941 0.02352941 ... 0.02352941 0.02352941 0.02352941]\n",
            " [0.         0.         0.         ... 0.         0.         0.        ]\n",
            " ...\n",
            " [0.01568627 0.01568627 0.01568627 ... 0.01568627 0.01568627 0.01568627]\n",
            " [0.         0.         0.         ... 0.         0.         0.        ]\n",
            " [0.         0.         0.         ... 0.         0.         0.        ]]\n"
          ]
        }
      ]
    },
    {
      "cell_type": "code",
      "source": [
        "print(y_train)"
      ],
      "metadata": {
        "colab": {
          "base_uri": "https://localhost:8080/"
        },
        "id": "AoGl2Cyt9L8d",
        "outputId": "e1bf7bd2-afb2-4ea8-b0b8-0a992db859f4"
      },
      "execution_count": 17,
      "outputs": [
        {
          "output_type": "stream",
          "name": "stdout",
          "text": [
            "[17  2 12 ...  1  4 19]\n"
          ]
        }
      ]
    },
    {
      "cell_type": "code",
      "source": [
        "print(X_test)"
      ],
      "metadata": {
        "colab": {
          "base_uri": "https://localhost:8080/"
        },
        "id": "WIW4lsTd9WRw",
        "outputId": "aaec9c8c-05db-427a-f9a8-9ab0feddbfc2"
      },
      "execution_count": 18,
      "outputs": [
        {
          "output_type": "stream",
          "name": "stdout",
          "text": [
            "[[0.         0.         0.         ... 0.         0.         0.        ]\n",
            " [0.         0.         0.         ... 0.         0.         0.        ]\n",
            " [0.01568627 0.01568627 0.01568627 ... 0.01568627 0.01568627 0.01568627]\n",
            " ...\n",
            " [0.         0.         0.         ... 0.         0.         0.        ]\n",
            " [0.         0.         0.         ... 0.         0.         0.        ]\n",
            " [0.         0.         0.         ... 0.         0.         0.        ]]\n"
          ]
        }
      ]
    },
    {
      "cell_type": "code",
      "source": [
        "print(y_test)"
      ],
      "metadata": {
        "colab": {
          "base_uri": "https://localhost:8080/"
        },
        "id": "aXBaDH9Y9Y7k",
        "outputId": "dc89f298-9017-42cf-aa06-3a50b7c168be"
      },
      "execution_count": 19,
      "outputs": [
        {
          "output_type": "stream",
          "name": "stdout",
          "text": [
            "[ 8 15  1 10 11 20 18  5 17 17 16 20 12  6 15 19 20 11 11  6 11 11 16 11\n",
            " 18  9  6 17  4  9  2 17 16 13 20  6 20 13 15  2  4  7 20 20  1  9  2  2\n",
            "  8  7  5 16  2 13 10 15 18 14 14 20 11 17  8  6 12  1  3 15  1 14 10  4\n",
            " 13 13 13  4  2 12 17  3  3  3 15 18 14  6  6 11 12  1  2 11 20 17  9 11\n",
            "  2 12  2  7  3  5  8  1  1 14  5 18 15  4  7  8  2  3 12 13  7  6  2  4\n",
            " 14  3 16 12  1 18  6 12  9  2 17  9  9 16 11  2  1 14 11 14 17  7 13 19\n",
            " 18  9 16  4  8  4 18  4  1 17 13  6 12 11  3 11  6 13  1 20 14 11 19  4\n",
            " 10 17 20 19  3 16 19  7  4  4 17 18 15 11  9 18 11  6 12 15  5 15 17 17\n",
            " 11 14  7  9  9  6 18 15  4  4 20  3 10 10  2  6  6 13 14  4  4  4  5 15\n",
            " 17  8  1 18 10 20 17 13  9 15 17 15  5 19  5 14 19  4  9 16 14 13 13  9\n",
            " 15 15 16  7 15 12 19 14  9  3  5  8  2 12  7 17  2 10 10 16  3  2 13 10\n",
            " 17 11  2 18 19 15 20 10 17  8  1  4 15  7 16  6  7 15  7 18 13 15 17  7]\n"
          ]
        }
      ]
    },
    {
      "cell_type": "code",
      "source": [
        "#Fischer score\n",
        "#We take Fisher Score algorithm as an example to explain how to perform feature selection on the training set.\n",
        "# First, we compute the fisher scores of all features using the training set.\n",
        "score = fisher_score.fisher_score(X_train, y_train)\n",
        "print (score)"
      ],
      "metadata": {
        "colab": {
          "base_uri": "https://localhost:8080/"
        },
        "id": "vti__NLU9cP0",
        "outputId": "4972a9c3-23ef-4f00-fd6d-1f231c15da8d"
      },
      "execution_count": 24,
      "outputs": [
        {
          "output_type": "stream",
          "name": "stdout",
          "text": [
            "[  0   1 992 ... 989 926 126]\n"
          ]
        }
      ]
    },
    {
      "cell_type": "code",
      "source": [
        "print(score.size)"
      ],
      "metadata": {
        "colab": {
          "base_uri": "https://localhost:8080/"
        },
        "id": "E5LFgG12_o4u",
        "outputId": "9ffcfd2f-f571-4e23-d1d5-4711f3400baa"
      },
      "execution_count": 26,
      "outputs": [
        {
          "output_type": "stream",
          "name": "stdout",
          "text": [
            "1024\n"
          ]
        }
      ]
    },
    {
      "cell_type": "code",
      "source": [
        "#Rank features in an descending order according to fisher scores and outputs the ranking index:\n",
        "idx = fisher_score.fisher_score(X_train, y_train, mode='rank') "
      ],
      "metadata": {
        "id": "vuuwngT7_dYE"
      },
      "execution_count": 27,
      "outputs": []
    },
    {
      "cell_type": "code",
      "source": [
        "print(idx)"
      ],
      "metadata": {
        "colab": {
          "base_uri": "https://localhost:8080/"
        },
        "id": "_b0crv8r_wBc",
        "outputId": "4e30fa8f-41cd-42cb-a651-b7bafc8b2490"
      },
      "execution_count": 28,
      "outputs": [
        {
          "output_type": "stream",
          "name": "stdout",
          "text": [
            "[  0   1 992 ... 989 926 126]\n"
          ]
        }
      ]
    },
    {
      "cell_type": "code",
      "source": [
        "num_fea = 5"
      ],
      "metadata": {
        "id": "rw4FXWhr_y6u"
      },
      "execution_count": 29,
      "outputs": []
    },
    {
      "cell_type": "code",
      "source": [
        "selected_features_train = X_train[:, idx[0:num_fea]]\n",
        "selected_features_test = X_test[:, idx[0:num_fea]]\n",
        "print (selected_features_train)"
      ],
      "metadata": {
        "colab": {
          "base_uri": "https://localhost:8080/"
        },
        "id": "Vh_U_10-_6gx",
        "outputId": "2706e19c-41d1-461a-eb99-9602d0ebb3f8"
      },
      "execution_count": 31,
      "outputs": [
        {
          "output_type": "stream",
          "name": "stdout",
          "text": [
            "[[0.         0.         0.         0.         0.        ]\n",
            " [0.02352941 0.02352941 0.02352941 0.02352941 0.02352941]\n",
            " [0.         0.         0.         0.         0.        ]\n",
            " ...\n",
            " [0.01568627 0.01568627 0.01568627 0.01568627 0.01568627]\n",
            " [0.         0.         0.         0.         0.        ]\n",
            " [0.         0.         0.         0.         0.        ]]\n"
          ]
        }
      ]
    },
    {
      "cell_type": "code",
      "source": [
        "print (selected_features_train.shape)"
      ],
      "metadata": {
        "colab": {
          "base_uri": "https://localhost:8080/"
        },
        "id": "EDyS8a9g_-eQ",
        "outputId": "21cd8fec-6c26-45c0-f9d4-847cadeacbf2"
      },
      "execution_count": 32,
      "outputs": [
        {
          "output_type": "stream",
          "name": "stdout",
          "text": [
            "(1152, 5)\n"
          ]
        }
      ]
    },
    {
      "cell_type": "code",
      "source": [
        "print (selected_features_test)"
      ],
      "metadata": {
        "colab": {
          "base_uri": "https://localhost:8080/"
        },
        "id": "xfpChxnaAOVY",
        "outputId": "97052574-2d07-4b7a-d4e5-32f35ee5233c"
      },
      "execution_count": 33,
      "outputs": [
        {
          "output_type": "stream",
          "name": "stdout",
          "text": [
            "[[0.         0.         0.         0.         0.        ]\n",
            " [0.         0.         0.         0.         0.        ]\n",
            " [0.01568627 0.01568627 0.01568627 0.01568627 0.01568627]\n",
            " ...\n",
            " [0.         0.         0.         0.         0.        ]\n",
            " [0.         0.         0.         0.         0.        ]\n",
            " [0.         0.         0.         0.         0.        ]]\n"
          ]
        }
      ]
    },
    {
      "cell_type": "code",
      "source": [
        "clf = svm.LinearSVC()\n"
      ],
      "metadata": {
        "id": "_Vrpq6NTASxn"
      },
      "execution_count": 35,
      "outputs": []
    },
    {
      "cell_type": "code",
      "source": [
        "clf.fit(selected_features_train, y_train)"
      ],
      "metadata": {
        "colab": {
          "base_uri": "https://localhost:8080/"
        },
        "id": "KH4ukuCYAb5p",
        "outputId": "6d2717d4-353e-4b73-8aac-33e0e53ead85"
      },
      "execution_count": 36,
      "outputs": [
        {
          "output_type": "execute_result",
          "data": {
            "text/plain": [
              "LinearSVC()"
            ]
          },
          "metadata": {},
          "execution_count": 36
        }
      ]
    },
    {
      "cell_type": "code",
      "source": [
        "y_predict = clf.predict(selected_features_test)\n",
        "print (y_predict)"
      ],
      "metadata": {
        "colab": {
          "base_uri": "https://localhost:8080/"
        },
        "id": "dURs2wgeAeRK",
        "outputId": "cb5dcf96-fcef-466c-eeaa-251a4b358580"
      },
      "execution_count": 37,
      "outputs": [
        {
          "output_type": "stream",
          "name": "stdout",
          "text": [
            "[8 8 2 8 8 8 8 8 8 8 8 8 8 8 8 8 8 8 8 8 8 8 8 8 8 8 8 8 8 8 2 8 8 8 8 8 8\n",
            " 8 8 2 8 8 8 8 2 8 2 2 8 8 8 8 2 8 8 8 8 8 8 8 8 8 8 8 8 2 8 8 2 8 8 8 8 8\n",
            " 8 8 2 8 8 8 8 8 8 8 8 8 8 8 8 2 2 8 8 8 8 8 2 8 2 8 8 8 8 2 2 8 8 8 8 8 8\n",
            " 8 2 8 8 8 8 8 2 8 8 8 8 8 2 8 8 8 8 2 8 8 8 8 8 2 2 8 8 8 8 8 8 8 8 8 8 8\n",
            " 8 8 8 8 2 8 8 8 8 8 8 8 8 8 2 8 8 8 8 8 8 8 8 8 8 8 8 8 8 8 8 8 8 8 8 8 8\n",
            " 8 8 8 8 8 8 8 8 8 8 8 8 8 8 8 8 8 8 8 8 8 2 8 8 8 8 8 8 8 8 8 8 8 2 8 8 8\n",
            " 8 8 8 8 8 8 8 8 8 8 8 8 8 8 8 8 8 8 8 8 8 8 8 8 8 8 8 8 8 8 2 8 8 8 2 8 8\n",
            " 8 8 2 8 8 8 8 2 8 8 8 8 8 8 8 2 8 8 8 8 8 8 8 8 8 8 8 8 8]\n"
          ]
        }
      ]
    },
    {
      "cell_type": "code",
      "source": [
        "acc = accuracy_score(y_test, y_predict)"
      ],
      "metadata": {
        "id": "6kL3uT0VAkMg"
      },
      "execution_count": 39,
      "outputs": []
    },
    {
      "cell_type": "code",
      "source": [
        "print (acc)"
      ],
      "metadata": {
        "colab": {
          "base_uri": "https://localhost:8080/"
        },
        "id": "Hg23ZZ98A00u",
        "outputId": "642443c5-2be1-4f20-ab47-f7f49144cefc"
      },
      "execution_count": 40,
      "outputs": [
        {
          "output_type": "stream",
          "name": "stdout",
          "text": [
            "0.09375\n"
          ]
        }
      ]
    },
    {
      "cell_type": "code",
      "source": [
        ""
      ],
      "metadata": {
        "id": "tL3QpzpNA6RZ"
      },
      "execution_count": null,
      "outputs": []
    }
  ]
}