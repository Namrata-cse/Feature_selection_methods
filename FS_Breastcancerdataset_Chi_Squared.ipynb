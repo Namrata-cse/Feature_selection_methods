{
  "nbformat": 4,
  "nbformat_minor": 0,
  "metadata": {
    "colab": {
      "name": "FS_Breastcancerdataset_Chi-Squared.ipynb",
      "provenance": [],
      "authorship_tag": "ABX9TyMwaQh8IAl25eal7wiaKnki",
      "include_colab_link": true
    },
    "kernelspec": {
      "name": "python3",
      "display_name": "Python 3"
    },
    "language_info": {
      "name": "python"
    }
  },
  "cells": [
    {
      "cell_type": "markdown",
      "metadata": {
        "id": "view-in-github",
        "colab_type": "text"
      },
      "source": [
        "<a href=\"https://colab.research.google.com/github/Namrata-cse/Feature_selection_methods/blob/main/FS_Breastcancerdataset_Chi_Squared.ipynb\" target=\"_parent\"><img src=\"https://colab.research.google.com/assets/colab-badge.svg\" alt=\"Open In Colab\"/></a>"
      ]
    },
    {
      "cell_type": "code",
      "source": [
        "import pandas as pd\n",
        "import numpy as np\n",
        "from sklearn.model_selection import train_test_split\n",
        "from sklearn.preprocessing import LabelEncoder\n",
        "from sklearn.preprocessing import OrdinalEncoder\n",
        "from sklearn.feature_selection import SelectKBest\n",
        "from sklearn.feature_selection import chi2\n",
        "from matplotlib import pyplot\n",
        "from sklearn.linear_model import LogisticRegression\n",
        "from sklearn.metrics import accuracy_score"
      ],
      "metadata": {
        "id": "poQ3_xM2XQIF"
      },
      "execution_count": 65,
      "outputs": []
    },
    {
      "cell_type": "code",
      "execution_count": 48,
      "metadata": {
        "id": "KosD4otbWFq1"
      },
      "outputs": [],
      "source": [
        "data = pd.read_csv(\"breast-cancer.csv\")"
      ]
    },
    {
      "cell_type": "code",
      "source": [
        "print(data)"
      ],
      "metadata": {
        "colab": {
          "base_uri": "https://localhost:8080/"
        },
        "id": "yhEATaHcd8z7",
        "outputId": "a29e7b31-14bc-4603-b782-f265dd02c709"
      },
      "execution_count": 49,
      "outputs": [
        {
          "output_type": "stream",
          "name": "stdout",
          "text": [
            "     '40-49'  'premeno'  '15-19'  '0-2'  'yes'  '3'  'right'   'left_up'  \\\n",
            "0    '50-59'     'ge40'  '15-19'  '0-2'   'no'  '1'  'right'   'central'   \n",
            "1    '50-59'     'ge40'  '35-39'  '0-2'   'no'  '2'   'left'  'left_low'   \n",
            "2    '40-49'  'premeno'  '35-39'  '0-2'  'yes'  '3'  'right'  'left_low'   \n",
            "3    '40-49'  'premeno'  '30-34'  '3-5'  'yes'  '2'   'left'  'right_up'   \n",
            "4    '50-59'  'premeno'  '25-29'  '3-5'   'no'  '2'  'right'   'left_up'   \n",
            "..       ...        ...      ...    ...    ...  ...      ...         ...   \n",
            "280  '50-59'     'ge40'  '30-34'  '6-8'  'yes'  '2'   'left'  'left_low'   \n",
            "281  '50-59'  'premeno'  '25-29'  '3-5'  'yes'  '2'   'left'  'left_low'   \n",
            "282  '30-39'  'premeno'  '30-34'  '6-8'  'yes'  '2'  'right'  'right_up'   \n",
            "283  '50-59'  'premeno'  '15-19'  '0-2'   'no'  '2'  'right'  'left_low'   \n",
            "284  '50-59'     'ge40'  '40-44'  '0-2'   'no'  '3'   'left'  'right_up'   \n",
            "\n",
            "      'no'     'recurrence-events'  \n",
            "0     'no'  'no-recurrence-events'  \n",
            "1     'no'     'recurrence-events'  \n",
            "2    'yes'  'no-recurrence-events'  \n",
            "3     'no'     'recurrence-events'  \n",
            "4    'yes'  'no-recurrence-events'  \n",
            "..     ...                     ...  \n",
            "280   'no'  'no-recurrence-events'  \n",
            "281  'yes'  'no-recurrence-events'  \n",
            "282   'no'  'no-recurrence-events'  \n",
            "283   'no'  'no-recurrence-events'  \n",
            "284   'no'  'no-recurrence-events'  \n",
            "\n",
            "[285 rows x 10 columns]\n"
          ]
        }
      ]
    },
    {
      "cell_type": "code",
      "source": [
        "data.head()"
      ],
      "metadata": {
        "colab": {
          "base_uri": "https://localhost:8080/",
          "height": 206
        },
        "id": "oD-dhobSeB7p",
        "outputId": "e5406700-efc9-4258-d589-6196c74b04f9"
      },
      "execution_count": 51,
      "outputs": [
        {
          "output_type": "execute_result",
          "data": {
            "text/plain": [
              "   '40-49'  'premeno'  '15-19'  '0-2'  'yes'  '3'  'right'   'left_up'   'no'  \\\n",
              "0  '50-59'     'ge40'  '15-19'  '0-2'   'no'  '1'  'right'   'central'   'no'   \n",
              "1  '50-59'     'ge40'  '35-39'  '0-2'   'no'  '2'   'left'  'left_low'   'no'   \n",
              "2  '40-49'  'premeno'  '35-39'  '0-2'  'yes'  '3'  'right'  'left_low'  'yes'   \n",
              "3  '40-49'  'premeno'  '30-34'  '3-5'  'yes'  '2'   'left'  'right_up'   'no'   \n",
              "4  '50-59'  'premeno'  '25-29'  '3-5'   'no'  '2'  'right'   'left_up'  'yes'   \n",
              "\n",
              "      'recurrence-events'  \n",
              "0  'no-recurrence-events'  \n",
              "1     'recurrence-events'  \n",
              "2  'no-recurrence-events'  \n",
              "3     'recurrence-events'  \n",
              "4  'no-recurrence-events'  "
            ],
            "text/html": [
              "\n",
              "  <div id=\"df-39767171-f0b8-47f8-9090-0f54fdf9e0da\">\n",
              "    <div class=\"colab-df-container\">\n",
              "      <div>\n",
              "<style scoped>\n",
              "    .dataframe tbody tr th:only-of-type {\n",
              "        vertical-align: middle;\n",
              "    }\n",
              "\n",
              "    .dataframe tbody tr th {\n",
              "        vertical-align: top;\n",
              "    }\n",
              "\n",
              "    .dataframe thead th {\n",
              "        text-align: right;\n",
              "    }\n",
              "</style>\n",
              "<table border=\"1\" class=\"dataframe\">\n",
              "  <thead>\n",
              "    <tr style=\"text-align: right;\">\n",
              "      <th></th>\n",
              "      <th>'40-49'</th>\n",
              "      <th>'premeno'</th>\n",
              "      <th>'15-19'</th>\n",
              "      <th>'0-2'</th>\n",
              "      <th>'yes'</th>\n",
              "      <th>'3'</th>\n",
              "      <th>'right'</th>\n",
              "      <th>'left_up'</th>\n",
              "      <th>'no'</th>\n",
              "      <th>'recurrence-events'</th>\n",
              "    </tr>\n",
              "  </thead>\n",
              "  <tbody>\n",
              "    <tr>\n",
              "      <th>0</th>\n",
              "      <td>'50-59'</td>\n",
              "      <td>'ge40'</td>\n",
              "      <td>'15-19'</td>\n",
              "      <td>'0-2'</td>\n",
              "      <td>'no'</td>\n",
              "      <td>'1'</td>\n",
              "      <td>'right'</td>\n",
              "      <td>'central'</td>\n",
              "      <td>'no'</td>\n",
              "      <td>'no-recurrence-events'</td>\n",
              "    </tr>\n",
              "    <tr>\n",
              "      <th>1</th>\n",
              "      <td>'50-59'</td>\n",
              "      <td>'ge40'</td>\n",
              "      <td>'35-39'</td>\n",
              "      <td>'0-2'</td>\n",
              "      <td>'no'</td>\n",
              "      <td>'2'</td>\n",
              "      <td>'left'</td>\n",
              "      <td>'left_low'</td>\n",
              "      <td>'no'</td>\n",
              "      <td>'recurrence-events'</td>\n",
              "    </tr>\n",
              "    <tr>\n",
              "      <th>2</th>\n",
              "      <td>'40-49'</td>\n",
              "      <td>'premeno'</td>\n",
              "      <td>'35-39'</td>\n",
              "      <td>'0-2'</td>\n",
              "      <td>'yes'</td>\n",
              "      <td>'3'</td>\n",
              "      <td>'right'</td>\n",
              "      <td>'left_low'</td>\n",
              "      <td>'yes'</td>\n",
              "      <td>'no-recurrence-events'</td>\n",
              "    </tr>\n",
              "    <tr>\n",
              "      <th>3</th>\n",
              "      <td>'40-49'</td>\n",
              "      <td>'premeno'</td>\n",
              "      <td>'30-34'</td>\n",
              "      <td>'3-5'</td>\n",
              "      <td>'yes'</td>\n",
              "      <td>'2'</td>\n",
              "      <td>'left'</td>\n",
              "      <td>'right_up'</td>\n",
              "      <td>'no'</td>\n",
              "      <td>'recurrence-events'</td>\n",
              "    </tr>\n",
              "    <tr>\n",
              "      <th>4</th>\n",
              "      <td>'50-59'</td>\n",
              "      <td>'premeno'</td>\n",
              "      <td>'25-29'</td>\n",
              "      <td>'3-5'</td>\n",
              "      <td>'no'</td>\n",
              "      <td>'2'</td>\n",
              "      <td>'right'</td>\n",
              "      <td>'left_up'</td>\n",
              "      <td>'yes'</td>\n",
              "      <td>'no-recurrence-events'</td>\n",
              "    </tr>\n",
              "  </tbody>\n",
              "</table>\n",
              "</div>\n",
              "      <button class=\"colab-df-convert\" onclick=\"convertToInteractive('df-39767171-f0b8-47f8-9090-0f54fdf9e0da')\"\n",
              "              title=\"Convert this dataframe to an interactive table.\"\n",
              "              style=\"display:none;\">\n",
              "        \n",
              "  <svg xmlns=\"http://www.w3.org/2000/svg\" height=\"24px\"viewBox=\"0 0 24 24\"\n",
              "       width=\"24px\">\n",
              "    <path d=\"M0 0h24v24H0V0z\" fill=\"none\"/>\n",
              "    <path d=\"M18.56 5.44l.94 2.06.94-2.06 2.06-.94-2.06-.94-.94-2.06-.94 2.06-2.06.94zm-11 1L8.5 8.5l.94-2.06 2.06-.94-2.06-.94L8.5 2.5l-.94 2.06-2.06.94zm10 10l.94 2.06.94-2.06 2.06-.94-2.06-.94-.94-2.06-.94 2.06-2.06.94z\"/><path d=\"M17.41 7.96l-1.37-1.37c-.4-.4-.92-.59-1.43-.59-.52 0-1.04.2-1.43.59L10.3 9.45l-7.72 7.72c-.78.78-.78 2.05 0 2.83L4 21.41c.39.39.9.59 1.41.59.51 0 1.02-.2 1.41-.59l7.78-7.78 2.81-2.81c.8-.78.8-2.07 0-2.86zM5.41 20L4 18.59l7.72-7.72 1.47 1.35L5.41 20z\"/>\n",
              "  </svg>\n",
              "      </button>\n",
              "      \n",
              "  <style>\n",
              "    .colab-df-container {\n",
              "      display:flex;\n",
              "      flex-wrap:wrap;\n",
              "      gap: 12px;\n",
              "    }\n",
              "\n",
              "    .colab-df-convert {\n",
              "      background-color: #E8F0FE;\n",
              "      border: none;\n",
              "      border-radius: 50%;\n",
              "      cursor: pointer;\n",
              "      display: none;\n",
              "      fill: #1967D2;\n",
              "      height: 32px;\n",
              "      padding: 0 0 0 0;\n",
              "      width: 32px;\n",
              "    }\n",
              "\n",
              "    .colab-df-convert:hover {\n",
              "      background-color: #E2EBFA;\n",
              "      box-shadow: 0px 1px 2px rgba(60, 64, 67, 0.3), 0px 1px 3px 1px rgba(60, 64, 67, 0.15);\n",
              "      fill: #174EA6;\n",
              "    }\n",
              "\n",
              "    [theme=dark] .colab-df-convert {\n",
              "      background-color: #3B4455;\n",
              "      fill: #D2E3FC;\n",
              "    }\n",
              "\n",
              "    [theme=dark] .colab-df-convert:hover {\n",
              "      background-color: #434B5C;\n",
              "      box-shadow: 0px 1px 3px 1px rgba(0, 0, 0, 0.15);\n",
              "      filter: drop-shadow(0px 1px 2px rgba(0, 0, 0, 0.3));\n",
              "      fill: #FFFFFF;\n",
              "    }\n",
              "  </style>\n",
              "\n",
              "      <script>\n",
              "        const buttonEl =\n",
              "          document.querySelector('#df-39767171-f0b8-47f8-9090-0f54fdf9e0da button.colab-df-convert');\n",
              "        buttonEl.style.display =\n",
              "          google.colab.kernel.accessAllowed ? 'block' : 'none';\n",
              "\n",
              "        async function convertToInteractive(key) {\n",
              "          const element = document.querySelector('#df-39767171-f0b8-47f8-9090-0f54fdf9e0da');\n",
              "          const dataTable =\n",
              "            await google.colab.kernel.invokeFunction('convertToInteractive',\n",
              "                                                     [key], {});\n",
              "          if (!dataTable) return;\n",
              "\n",
              "          const docLinkHtml = 'Like what you see? Visit the ' +\n",
              "            '<a target=\"_blank\" href=https://colab.research.google.com/notebooks/data_table.ipynb>data table notebook</a>'\n",
              "            + ' to learn more about interactive tables.';\n",
              "          element.innerHTML = '';\n",
              "          dataTable['output_type'] = 'display_data';\n",
              "          await google.colab.output.renderOutput(dataTable, element);\n",
              "          const docLink = document.createElement('div');\n",
              "          docLink.innerHTML = docLinkHtml;\n",
              "          element.appendChild(docLink);\n",
              "        }\n",
              "      </script>\n",
              "    </div>\n",
              "  </div>\n",
              "  "
            ]
          },
          "metadata": {},
          "execution_count": 51
        }
      ]
    },
    {
      "cell_type": "code",
      "source": [
        "dataset = data.values"
      ],
      "metadata": {
        "id": "zbIjSHkdXNXE"
      },
      "execution_count": 7,
      "outputs": []
    },
    {
      "cell_type": "code",
      "source": [
        "# split into input (X) and output (y) variables\n",
        "X = dataset[:, :-1]\n",
        "y = dataset[:,-1]"
      ],
      "metadata": {
        "id": "KbItd8qMZqSo"
      },
      "execution_count": 8,
      "outputs": []
    },
    {
      "cell_type": "code",
      "source": [
        "# format all fields as string\n",
        "X = X.astype(str)\n",
        "return X, y\n",
        " \n"
      ],
      "metadata": {
        "colab": {
          "base_uri": "https://localhost:8080/",
          "height": 131
        },
        "id": "Ii4g0vsCZyc2",
        "outputId": "c1cf478b-ec79-4579-9881-f91ca4986028"
      },
      "execution_count": 62,
      "outputs": [
        {
          "output_type": "error",
          "ename": "SyntaxError",
          "evalue": "ignored",
          "traceback": [
            "\u001b[0;36m  File \u001b[0;32m\"<ipython-input-62-ab1f0c1455a0>\"\u001b[0;36m, line \u001b[0;32m3\u001b[0m\n\u001b[0;31m    return X, y\u001b[0m\n\u001b[0m               ^\u001b[0m\n\u001b[0;31mSyntaxError\u001b[0m\u001b[0;31m:\u001b[0m 'return' outside function\n"
          ]
        }
      ]
    },
    {
      "cell_type": "code",
      "source": [
        "# split into train and test sets\n",
        "X_train, X_test, y_train, y_test = train_test_split(X, y, test_size=0.33, random_state=1)\n",
        "# summarize\n",
        "print('Train', X_train.shape, y_train.shape)\n",
        "print('Test', X_test.shape, y_test.shape)"
      ],
      "metadata": {
        "colab": {
          "base_uri": "https://localhost:8080/"
        },
        "id": "YPXjp1UKZ8y5",
        "outputId": "b49af7b0-6b56-4b82-a6e7-55848de7a7be"
      },
      "execution_count": 53,
      "outputs": [
        {
          "output_type": "stream",
          "name": "stdout",
          "text": [
            "Train (190, 9) (190,)\n",
            "Test (95, 9) (95,)\n"
          ]
        }
      ]
    },
    {
      "cell_type": "markdown",
      "source": [
        "use the OrdinalEncoder() from scikit-learn to encode each variable to integers. This is a flexible class and does allow the order of the categories to be specified as arguments if any such order is known."
      ],
      "metadata": {
        "id": "S5DsvSiNbAMZ"
      }
    },
    {
      "cell_type": "markdown",
      "source": [
        "The best practice when encoding variables is to fit the encoding on the training dataset, then apply it to the train and test datasets.\n",
        "\n",
        "The function below named prepare_inputs() takes the input data for the train and test sets and encodes it using an ordinal encoding."
      ],
      "metadata": {
        "id": "SCR33drdbItD"
      }
    },
    {
      "cell_type": "code",
      "source": [
        "# prepare input data\n",
        "def prepare_inputs(X_train, X_test):\n",
        "\toe = OrdinalEncoder()\n",
        "\toe.fit(X_train)\n",
        "\tX_train_enc = oe.transform(X_train)\n",
        "\tX_test_enc = oe.transform(X_test)\n",
        "\treturn X_train_enc, X_test_enc"
      ],
      "metadata": {
        "id": "1Jk5Pi2UahHu"
      },
      "execution_count": 63,
      "outputs": []
    },
    {
      "cell_type": "markdown",
      "source": [
        "We also need to prepare the target variable.\n",
        "\n",
        "It is a binary classification problem, so we need to map the two class labels to 0 and 1. This is a type of ordinal encoding, and scikit-learn provides the LabelEncoder class specifically designed for this purpose. We could just as easily use the OrdinalEncoder and achieve the same result, although the LabelEncoder is designed for encoding a single variable.\n",
        "\n",
        "The prepare_targets() function integer encodes the output data for the train and test sets."
      ],
      "metadata": {
        "id": "dtQ6OROZcE7p"
      }
    },
    {
      "cell_type": "code",
      "source": [
        "# prepare target\n",
        "def prepare_targets(y_train, y_test):\n",
        "\tle = LabelEncoder()\n",
        "\tle.fit(y_train)\n",
        "\ty_train_enc = le.transform(y_train)\n",
        "\ty_test_enc = le.transform(y_test)\n",
        "\treturn y_train_enc, y_test_enc\n",
        " "
      ],
      "metadata": {
        "id": "w1hlVga9bQlq"
      },
      "execution_count": 55,
      "outputs": []
    },
    {
      "cell_type": "markdown",
      "source": [
        "Chi-Squared method for categorical data"
      ],
      "metadata": {
        "id": "E13oK5oufXcV"
      }
    },
    {
      "cell_type": "code",
      "source": [
        "# feature selection\n",
        "def select_features(X_train, y_train, X_test):\n",
        "\tfs = SelectKBest(score_func=chi2, k='all')\n",
        "\tfs.fit(X_train, y_train)\n",
        "\tX_train_fs = fs.transform(X_train)\n",
        "\tX_test_fs = fs.transform(X_test)\n",
        "\treturn X_train_fs, X_test_fs, fs"
      ],
      "metadata": {
        "id": "Xfd6_MKCdTQw"
      },
      "execution_count": 56,
      "outputs": []
    },
    {
      "cell_type": "code",
      "source": [
        "# load the dataset\n",
        "X, y = load_dataset('breast-cancer.csv')\n",
        "# split into train and test sets\n",
        "X_train, X_test, y_train, y_test = train_test_split(X, y, test_size=0.33, random_state=1)\n",
        "# prepare input data\n",
        "X_train_enc, X_test_enc = prepare_inputs(X_train, X_test)\n",
        "# prepare output data\n",
        "y_train_enc, y_test_enc = prepare_targets(y_train, y_test)"
      ],
      "metadata": {
        "id": "WJTyIBSJcLxf"
      },
      "execution_count": 60,
      "outputs": []
    },
    {
      "cell_type": "code",
      "source": [
        "# feature selection\n",
        "X_train_fs, X_test_fs, fs = select_features(X_train_enc, y_train_enc, X_test_enc)\n",
        "# what are scores for the features\n",
        "for i in range(len(fs.scores_)):\n",
        "\tprint('Feature %d: %f' % (i, fs.scores_[i]))\n",
        "# plot the scores\n",
        "pyplot.bar([i for i in range(len(fs.scores_))], fs.scores_)\n",
        "pyplot.show()"
      ],
      "metadata": {
        "colab": {
          "base_uri": "https://localhost:8080/",
          "height": 421
        },
        "id": "A-j2-7PGc77f",
        "outputId": "9f5735e9-7b25-44b3-fdf9-4eaac0a51555"
      },
      "execution_count": 61,
      "outputs": [
        {
          "output_type": "stream",
          "name": "stdout",
          "text": [
            "Feature 0: 0.472553\n",
            "Feature 1: 0.029193\n",
            "Feature 2: 2.137658\n",
            "Feature 3: 29.381059\n",
            "Feature 4: 8.222601\n",
            "Feature 5: 8.100183\n",
            "Feature 6: 1.273822\n",
            "Feature 7: 0.950682\n",
            "Feature 8: 3.699989\n"
          ]
        },
        {
          "output_type": "display_data",
          "data": {
            "text/plain": [
              "<Figure size 432x288 with 1 Axes>"
            ],
            "image/png": "[encoded data removed]"
          },
          "metadata": {
            "needs_background": "light"
          }
        }
      ]
    },
    {
      "cell_type": "code",
      "source": [
        "# fit the model\n",
        "model = LogisticRegression(solver='lbfgs')\n",
        "model.fit(X_train_fs, y_train_enc)\n",
        "# evaluate the model\n",
        "yhat = model.predict(X_test_fs)\n",
        "# evaluate predictions\n",
        "accuracy = accuracy_score(y_test_enc, yhat)\n",
        "print('Accuracy: %.2f' % (accuracy*100))"
      ],
      "metadata": {
        "colab": {
          "base_uri": "https://localhost:8080/"
        },
        "id": "Gn5pXpF0gkLG",
        "outputId": "e4c55b3e-3274-4073-b6e4-c73e7b6517fd"
      },
      "execution_count": 66,
      "outputs": [
        {
          "output_type": "stream",
          "name": "stdout",
          "text": [
            "Accuracy: 75.79\n"
          ]
        }
      ]
    }
  ]
}