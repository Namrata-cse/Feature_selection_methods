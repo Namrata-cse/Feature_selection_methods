{
  "nbformat": 4,
  "nbformat_minor": 0,
  "metadata": {
    "colab": {
      "name": "FS_Pearson’s Correlation Coefficient .ipynb",
      "provenance": [],
      "authorship_tag": "ABX9TyN1M5A66e46BM6s301WYErj",
      "include_colab_link": true
    },
    "kernelspec": {
      "name": "python3",
      "display_name": "Python 3"
    },
    "language_info": {
      "name": "python"
    }
  },
  "cells": [
    {
      "cell_type": "markdown",
      "metadata": {
        "id": "view-in-github",
        "colab_type": "text"
      },
      "source": [
        "<a href=\"https://colab.research.google.com/github/Namrata-cse/Feature_selection_methods/blob/main/FS_Pearson%E2%80%99s_Correlation_Coefficient_.ipynb\" target=\"_parent\"><img src=\"https://colab.research.google.com/assets/colab-badge.svg\" alt=\"Open In Colab\"/></a>"
      ]
    },
    {
      "cell_type": "code",
      "execution_count": 1,
      "metadata": {
        "id": "Jmv8x8zsRavH"
      },
      "outputs": [],
      "source": [
        "#libraries\n",
        "from sklearn.datasets import make_regression\n",
        "from sklearn.feature_selection import SelectKBest\n",
        "from sklearn.feature_selection import f_regression"
      ]
    },
    {
      "cell_type": "markdown",
      "source": [
        "Regression Feature Selection:\n",
        "(Numerical Input, Numerical Output)"
      ],
      "metadata": {
        "id": "hJHwO09wSZtF"
      }
    },
    {
      "cell_type": "code",
      "source": [
        "# generate dataset\n",
        "X, y = make_regression(n_samples=100, n_features=100, n_informative=10)"
      ],
      "metadata": {
        "id": "Jlg4bhajRw4A"
      },
      "execution_count": 2,
      "outputs": []
    },
    {
      "cell_type": "code",
      "source": [
        "# define feature selection\n",
        "fs = SelectKBest(score_func=f_regression, k=10)"
      ],
      "metadata": {
        "id": "3QTSrz2WSB7F"
      },
      "execution_count": 3,
      "outputs": []
    },
    {
      "cell_type": "code",
      "source": [
        "# apply feature selection\n",
        "#Feature selection is performed using Pearson’s Correlation Coefficient via the f_regression() function.\n",
        "X_selected = fs.fit_transform(X, y)\n",
        "print(X_selected.shape)"
      ],
      "metadata": {
        "colab": {
          "base_uri": "https://localhost:8080/"
        },
        "id": "cE9hAbBfSGAU",
        "outputId": "3ace42d3-7ab3-43bc-b9d2-68c5b809c56e"
      },
      "execution_count": 5,
      "outputs": [
        {
          "output_type": "stream",
          "name": "stdout",
          "text": [
            "(100, 10)\n"
          ]
        }
      ]
    },
    {
      "cell_type": "markdown",
      "source": [
        "Running the example first creates the regression dataset, then defines the feature selection and applies the feature selection procedure to the dataset, returning a subset of the selected input features.\n",
        "\n"
      ],
      "metadata": {
        "id": "CvyvBdpGSlAq"
      }
    },
    {
      "cell_type": "code",
      "source": [
        ""
      ],
      "metadata": {
        "id": "L26KSetBSbyW"
      },
      "execution_count": null,
      "outputs": []
    }
  ]
}